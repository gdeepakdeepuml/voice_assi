{
 "cells": [
  {
   "cell_type": "code",
   "execution_count": 6,
   "metadata": {},
   "outputs": [
    {
     "name": "stdout",
     "output_type": "stream",
     "text": [
      "Computer: Good Afternoon!\n",
      "Computer: Hello Sir, I am your digital assistant Jarvis!\n",
      "Computer: How may I help you?\n",
      "Listening...\n",
      "Computer: Sorry sir! I didn't get that! Try typing the command!\n",
      "Command: bye\n",
      "Computer: Bye Sir, have a good day.\n"
     ]
    },
    {
     "ename": "SystemExit",
     "evalue": "",
     "output_type": "error",
     "traceback": [
      "An exception has occurred, use %tb to see the full traceback.\n",
      "\u001b[0;31mSystemExit\u001b[0m\n"
     ]
    }
   ],
   "source": [
    "import pyttsx3\n",
    "import webbrowser\n",
    "import smtplib\n",
    "import random\n",
    "import speech_recognition as sr\n",
    "import wikipedia\n",
    "import datetime\n",
    "import wolframalpha\n",
    "import os\n",
    "import sys\n",
    "\n",
    "engine = pyttsx3.init()\n",
    "\n",
    "client = wolframalpha.Client('PU88K3-H6U249ET8G')\n",
    "\n",
    "voices = engine.getProperty('voices')\n",
    "engine.setProperty('voice', voices[len(voices)-1].id)\n",
    "\n",
    "def speak(audio):\n",
    "    print('Computer: ' + audio)\n",
    "    engine.say(audio)\n",
    "    engine.runAndWait()\n",
    "\n",
    "def greetMe():\n",
    "    currentH = int(datetime.datetime.now().hour)\n",
    "    if currentH >= 0 and currentH < 12:\n",
    "        speak('Good Morning!')\n",
    "\n",
    "    if currentH >= 12 and currentH < 18:\n",
    "        speak('Good Afternoon!')\n",
    "\n",
    "    if currentH >= 18 and currentH !=0:\n",
    "        speak('Good Evening!')\n",
    "\n",
    "greetMe()\n",
    "\n",
    "speak('Hello Sir, I am your digital assistant Jarvis!')\n",
    "speak('How may I help you?')\n",
    "\n",
    "\n",
    "def myCommand():\n",
    "   \n",
    "    r = sr.Recognizer()                                                                                   \n",
    "    with sr.Microphone() as source:                                                                       \n",
    "        print(\"Listening...\")\n",
    "        r.adjust_for_ambient_noise(source, duration=5)\n",
    "        r.pause_threshold =  1\n",
    "        audio = r.listen(source)\n",
    "    try:\n",
    "        query = r.recognize_google(audio, language='en-in')\n",
    "        print('User: ' + query + '\\n')\n",
    "        \n",
    "    except sr.UnknownValueError:\n",
    "        speak('Sorry sir! I didn\\'t get that! Try typing the command!')\n",
    "        query = str(input('Command: '))\n",
    "\n",
    "    return query\n",
    "        \n",
    "\n",
    "if __name__ == '__main__':\n",
    "\n",
    "    while True:\n",
    "    \n",
    "        query = myCommand();\n",
    "        query = query.lower()\n",
    "        \n",
    "        if 'open youtube' in query:\n",
    "            speak('okay')\n",
    "            webbrowser.open('www.youtube.com')\n",
    "\n",
    "        elif 'open google' in query:\n",
    "            speak('okay')\n",
    "            webbrowser.open('www.google.co.in')\n",
    "\n",
    "        elif 'open gmail' in query:\n",
    "            speak('okay')\n",
    "            webbrowser.open('www.gmail.com')\n",
    "\n",
    "        elif \"what\\'s up\" in query or 'how are you' in query:\n",
    "            stMsgs = ['Just doing my thing!', 'I am fine!', 'Nice!', 'I am nice and full of energy']\n",
    "            speak(random.choice(stMsgs))\n",
    "\n",
    "        elif 'email' in query:\n",
    "            speak('Who is the recipient? ')\n",
    "            recipient = myCommand()\n",
    "\n",
    "            if 'me' in recipient:\n",
    "                try:\n",
    "                    speak('What should I say? ')\n",
    "                    content = myCommand()\n",
    "        \n",
    "                    server = smtplib.SMTP('smtp.gmail.com', 587)\n",
    "                    server.ehlo()\n",
    "                    server.starttls()\n",
    "                    server.login(\"Your_Username\", 'Your_Password')\n",
    "                    server.sendmail('Your_Username', \"Recipient_Username\", content)\n",
    "                    server.close()\n",
    "                    speak('Email sent!')\n",
    "\n",
    "                except:\n",
    "                    speak('Sorry Sir! I am unable to send your message at this moment!')\n",
    "\n",
    "\n",
    "        elif 'nothing' in query or 'abort' in query or 'stop' in query:\n",
    "            speak('okay')\n",
    "            speak('Bye Sir, have a good day.')\n",
    "            sys.exit()\n",
    "           \n",
    "        elif 'hello' in query:\n",
    "            speak('Hello Sir')\n",
    "        \n",
    "        elif 'i feel alone' in query:\n",
    "            speak('do not worry! every thing will be ok !')\n",
    "            speak('can i play music')\n",
    "\n",
    "        elif 'bye' in query:\n",
    "            speak('Bye Sir, have a good day.')\n",
    "            sys.exit()\n",
    "                                    \n",
    "        elif 'play music' in query:\n",
    "            music_folder = '/home/deepak/Music/'\n",
    "            music = ['mysong']\n",
    "            random_music = music_folder + random.choice(music) + '.mp3'\n",
    "            os.system(random_music)\n",
    "                  \n",
    "            speak('Okay, here is your music! Enjoy!')\n",
    "            \n",
    "\n",
    "        else:\n",
    "            query = query\n",
    "            speak('Searching...')\n",
    "            try:\n",
    "                try:\n",
    "                    res = client.query(query)\n",
    "                    results = next(res.results).text\n",
    "                    speak('WOLFRAM-ALPHA says - ')\n",
    "                    speak('Got it.')\n",
    "                    speak(results)\n",
    "                    \n",
    "                except:\n",
    "                    results = wikipedia.summary(query, sentences=2)\n",
    "                    speak('Got it.')\n",
    "                    speak('WIKIPEDIA says - ')\n",
    "                    speak(results)\n",
    "        \n",
    "            except:\n",
    "                webbrowser.open('www.google.com')\n",
    "        \n",
    "        speak('Next Command! Sir!')\n",
    "        "
   ]
  },
  {
   "cell_type": "code",
   "execution_count": null,
   "metadata": {},
   "outputs": [],
   "source": []
  },
  {
   "cell_type": "code",
   "execution_count": 1,
   "metadata": {},
   "outputs": [],
   "source": [
    "import speech_recognition as sr\n",
    "\n",
    "def myCommand():\n",
    "   \n",
    "    r = sr.Recognizer()                                                                                   \n",
    "    with sr.Microphone() as source:                                                                       \n",
    "        print(\"Listening...\")\n",
    "        r.pause_threshold =  1\n",
    "        audio = r.listen(source)\n",
    "    try:\n",
    "        query = r.recognize_google(audio, language='en-in')\n",
    "        print('User: ' + query + '\\n')\n",
    "        \n",
    "    except sr.UnknownValueError:\n",
    "        speak('Sorry sir! I didn\\'t get that! Try typing the command!')\n",
    "        query = str(input('Command: '))\n",
    "\n",
    "    return query"
   ]
  },
  {
   "cell_type": "code",
   "execution_count": null,
   "metadata": {},
   "outputs": [
    {
     "name": "stdout",
     "output_type": "stream",
     "text": [
      "Listening...\n"
     ]
    }
   ],
   "source": [
    "myCommand()"
   ]
  },
  {
   "cell_type": "code",
   "execution_count": null,
   "metadata": {},
   "outputs": [],
   "source": [
    "import speech_recognition as sr\n",
    "r = sr.Recognizer()\n",
    "with sr.Microphone() as source:                # use the default microphone as the audio source\n",
    "    audio = r.listen(source)                   # listen for the first phrase and extract it into audio data\n",
    "\n",
    "try:\n",
    "    print(\"You said \" + r.recognize(audio))    # recognize speech using Google Speech Recognition\n",
    "except LookupError:                           # speech is unintelligible\n",
    "    print(\"Could not understand audio\")"
   ]
  },
  {
   "cell_type": "code",
   "execution_count": 1,
   "metadata": {},
   "outputs": [
    {
     "name": "stdout",
     "output_type": "stream",
     "text": [
      "hi\n"
     ]
    }
   ],
   "source": [
    "print('hi')"
   ]
  },
  {
   "cell_type": "code",
   "execution_count": 2,
   "metadata": {},
   "outputs": [],
   "source": [
    "import numpy as mp "
   ]
  },
  {
   "cell_type": "code",
   "execution_count": 3,
   "metadata": {},
   "outputs": [],
   "source": [
    "import pandas as pd"
   ]
  },
  {
   "cell_type": "code",
   "execution_count": null,
   "metadata": {},
   "outputs": [],
   "source": []
  }
 ],
 "metadata": {
  "kernelspec": {
   "display_name": "Python 3",
   "language": "python",
   "name": "python3"
  },
  "language_info": {
   "codemirror_mode": {
    "name": "ipython",
    "version": 3
   },
   "file_extension": ".py",
   "mimetype": "text/x-python",
   "name": "python",
   "nbconvert_exporter": "python",
   "pygments_lexer": "ipython3",
   "version": "3.7.3"
  }
 },
 "nbformat": 4,
 "nbformat_minor": 2
}
